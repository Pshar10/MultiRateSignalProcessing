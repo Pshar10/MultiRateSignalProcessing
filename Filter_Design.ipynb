{
  "cells": [
    {
      "cell_type": "markdown",
      "metadata": {
        "deletable": false,
        "editable": false,
        "nbgrader": {
          "cell_type": "markdown",
          "checksum": "da63001ecef774514bd1b6ee58466af8",
          "grade": false,
          "grade_id": "cell-296e1412ca868212",
          "locked": true,
          "schema_version": 3,
          "solution": false,
          "task": false
        },
        "id": "IZTAuYlEGnOK"
      },
      "source": [
        "## Filter Design "
      ]
    },
    {
      "cell_type": "markdown",
      "metadata": {
        "deletable": false,
        "editable": false,
        "nbgrader": {
          "cell_type": "markdown",
          "checksum": "e942bd6df83b8b9009f9a15eee68389b",
          "grade": false,
          "grade_id": "cell-932fb67cc06454e4",
          "locked": true,
          "schema_version": 3,
          "solution": false,
          "task": false
        },
        "id": "ycv5ROb_GnOK"
      },
      "source": [
        "- A lowpass filter with the stopband frequency $f_{stop}$ (as defined in the next cell) as start of the stopband, with passband ripples of less than 1 dB and a stopband attenuation of at least 60 dB. The stop band starts at normalized frequency $f_{stop}$ (with $2 \\cdot \\pi$ being the sampling frequency). Have a transition band of width $0.1 \\cdot \\pi$. \n",
        "- Using the \"remez\" function."
      ]
    },
    {
      "cell_type": "code",
      "execution_count": null,
      "metadata": {
        "deletable": false,
        "nbgrader": {
          "cell_type": "code",
          "checksum": "20ec75f9b2b2a3eb3463c6a8c3a094be",
          "grade": false,
          "grade_id": "cell-c2886dbdc7a8d373",
          "locked": false,
          "schema_version": 3,
          "solution": true,
          "task": false
        },
        "id": "0Ff4buQ-GnOO"
      },
      "outputs": [],
      "source": [
        "# Enter the f_stop frequency in Hz, round to 2 decimal points. E.g. f_stop_hz = 2000.27\n",
        "\n",
        "def freqs_in_hz(f_stop, transition):\n",
        "\n",
        "    fst= f_stop/(2*np.pi)\n",
        "    fss = fst*48000\n",
        "    f_stop_hz = round (fss,2)\n",
        "    \n",
        "    fst = transition/(2*np.pi)\n",
        "    fss = fst*48000\n",
        "    transition_hz=round (fss,2)\n",
        "\n",
        "    return f_stop_hz, transition_hz"
      ]
    },
    {
      "cell_type": "markdown",
      "metadata": {
        "deletable": false,
        "editable": false,
        "nbgrader": {
          "cell_type": "markdown",
          "checksum": "1a9917acf7bdfab1dc2d06eeadfb0c3f",
          "grade": false,
          "grade_id": "cell-0ab6122c9027039a",
          "locked": true,
          "schema_version": 3,
          "solution": false,
          "task": false
        },
        "id": "qNc4QvAnGnOO"
      },
      "source": [
        " - Run the cell below to validate your answer:"
      ]
    },
    {
      "cell_type": "code",
      "execution_count": null,
      "metadata": {
        "deletable": false,
        "editable": false,
        "nbgrader": {
          "cell_type": "code",
          "checksum": "0a28f29d4ad6660def04d27f92d58970",
          "grade": true,
          "grade_id": "cell-dc6d422c21e6ef5e",
          "locked": true,
          "points": 1,
          "schema_version": 3,
          "solution": false,
          "task": false
        },
        "id": "fMMIjucxGnOP",
        "outputId": "f3b64eec-0aac-48ee-a2b4-104d7085082f"
      },
      "outputs": [
        {
          "name": "stdout",
          "output_type": "stream",
          "text": [
            "f_stop [Hz]: 14739.17\n",
            "Transition [Hz]: 2400.0\n"
          ]
        }
      ],
      "source": [
        "f_stop_hz, transition_hz = freqs_in_hz(f_stop, 0.1*np.pi)\n",
        "\n",
        "print(\"f_stop [Hz]:\", f_stop_hz)\n",
        "print(\"Transition [Hz]:\", transition_hz)\n",
        "\n",
        "# Tests for different f_stop and transition\n",
        "new_f_stop = 0.4\n",
        "new_transition = 0.6\n",
        "\n",
        "new_f_stop_hz, new_transition_hz = freqs_in_hz(new_f_stop, new_transition)\n",
        "\n"
      ]
    },
    {
      "cell_type": "markdown",
      "metadata": {
        "deletable": false,
        "editable": false,
        "nbgrader": {
          "cell_type": "markdown",
          "checksum": "2cf62bd177277cbd40c69424182d12cf",
          "grade": false,
          "grade_id": "cell-3ffaa7324fd377a8",
          "locked": true,
          "schema_version": 3,
          "solution": false,
          "task": false
        },
        "id": "tVRWX7Q0GnOP"
      },
      "source": [
        " - Calculate the filter coefficients by entering your code in the function below. "
      ]
    },
    {
      "cell_type": "code",
      "execution_count": null,
      "metadata": {
        "deletable": false,
        "nbgrader": {
          "cell_type": "code",
          "checksum": "fc8b46f166fedc64c8c5d8a2563e1037",
          "grade": false,
          "grade_id": "cell-701e11dca47d2e81",
          "locked": false,
          "schema_version": 3,
          "solution": true,
          "task": false
        },
        "id": "JDDD-19aGnOQ"
      },
      "outputs": [],
      "source": [
        "# Import necessary libraries here:\n",
        "import numpy as np\n",
        "\n",
        "# Complete the function with your code\n",
        "def filter_coeffs(f_stop, transition):\n",
        "    # YOUR CODE HERE\n",
        "    h = sp.remez(64,[0,(f_stop - transition),f_stop,np.pi],[1,0],[1,100],fs=(2*np.pi))\n",
        "    # YOUR CODE END HERE\n",
        "    return h # h are the filter coefficiente\n"
      ]
    },
    {
      "cell_type": "markdown",
      "metadata": {
        "deletable": false,
        "editable": false,
        "nbgrader": {
          "cell_type": "markdown",
          "checksum": "e1e8a01a155d5b3364c6a51719bf9d4e",
          "grade": false,
          "grade_id": "cell-61eab5d815ea09db",
          "locked": true,
          "schema_version": 3,
          "solution": false,
          "task": false
        },
        "id": "l-HmzfBOGnOR"
      },
      "source": [
        " - Validate your answer running the cell below:"
      ]
    },
    {
      "cell_type": "code",
      "execution_count": null,
      "metadata": {
        "deletable": false,
        "editable": false,
        "nbgrader": {
          "cell_type": "code",
          "checksum": "f7621ee7f1c391b599abc0c335710227",
          "grade": true,
          "grade_id": "cell-f993a8fbadd10c43",
          "locked": true,
          "points": 5,
          "schema_version": 3,
          "solution": false,
          "task": false
        },
        "id": "_RMWsusfGnOR",
        "outputId": "856a99d7-74ae-4454-bc8b-c8947c0bb2e4"
      },
      "outputs": [
        {
          "name": "stdout",
          "output_type": "stream",
          "text": [
            "Filter Coefficients: [ 7.20349882e-04  1.12625191e-03 -1.15869728e-03 -3.90778323e-03\n",
            " -1.73294736e-03  2.12589704e-03 -3.26938704e-04 -3.82373035e-03\n",
            "  9.79556688e-04  4.41477607e-03 -2.97090550e-03 -5.03868064e-03\n",
            "  5.50951290e-03  4.72588118e-03 -8.83371698e-03 -3.14257850e-03\n",
            "  1.25444658e-02 -3.17361592e-04 -1.61356004e-02  6.14100247e-03\n",
            "  1.87629410e-02 -1.48163847e-02 -1.92913801e-02  2.68779823e-02\n",
            "  1.60590564e-02 -4.34138522e-02 -6.09307112e-03  6.79188184e-02\n",
            " -1.88352810e-02 -1.16962347e-01  1.08669410e-01  4.85173384e-01\n",
            "  4.85173384e-01  1.08669410e-01 -1.16962347e-01 -1.88352810e-02\n",
            "  6.79188184e-02 -6.09307112e-03 -4.34138522e-02  1.60590564e-02\n",
            "  2.68779823e-02 -1.92913801e-02 -1.48163847e-02  1.87629410e-02\n",
            "  6.14100247e-03 -1.61356004e-02 -3.17361592e-04  1.25444658e-02\n",
            " -3.14257850e-03 -8.83371698e-03  4.72588118e-03  5.50951290e-03\n",
            " -5.03868064e-03 -2.97090550e-03  4.41477607e-03  9.79556688e-04\n",
            " -3.82373035e-03 -3.26938704e-04  2.12589704e-03 -1.73294736e-03\n",
            " -3.90778323e-03 -1.15869728e-03  1.12625191e-03  7.20349882e-04]\n"
          ]
        },
        {
          "data": {
            "image/png": "[encoded data removed]",
            "text/plain": [
              "<Figure size 432x288 with 1 Axes>"
            ]
          },
          "metadata": {
            "needs_background": "light"
          },
          "output_type": "display_data"
        }
      ],
      "source": [
        "import scipy.signal as sp\n",
        "import numpy as np\n",
        "import matplotlib.pyplot as plt\n",
        "h = filter_coeffs(f_stop, 0.1*np.pi)\n",
        "print(\"Filter Coefficients:\", h)\n",
        "\n",
        "\n",
        "# Test for different f_stop and transition band\n",
        "new_f_stop = 0.4\n",
        "new_transition = 0.3283185307179586\n",
        "\n",
        "h_new=filter_coeffs(new_f_stop, new_transition)\n",
        "w, H=sp.freqz(h_new)\n",
        "#x=abs(H) #magnitude frequency response\n",
        "x=20*np.log10(np.abs(H))\n",
        "\n",
        "#Just for visual checking:\n",
        "plt.plot(20*np.log10(np.abs(H))) #plot magnitude frequency response in dB\n",
        "plt.axis([0,512,-100,1])\n",
        "designlimit=-np.random.rand(512)*60\n",
        "designlimit[0:int((0.027323954473516265)*512)]=0\n",
        "designlimit[int((0.12732395447351627)*512) :]=-60\n",
        "plt.plot(designlimit)\n",
        "plt.legend(('Obtained freq resp','Design limit'))\n",
        "\n"
      ]
    },
    {
      "cell_type": "code",
      "execution_count": null,
      "metadata": {
        "id": "5wcnoU8wGnOS"
      },
      "outputs": [],
      "source": [
        ""
      ]
    }
  ],
  "metadata": {
    "kernelspec": {
      "display_name": "Python 3 (ipykernel)",
      "language": "python",
      "name": "python3"
    },
    "language_info": {
      "codemirror_mode": {
        "name": "ipython",
        "version": 3
      },
      "file_extension": ".py",
      "mimetype": "text/x-python",
      "name": "python",
      "nbconvert_exporter": "python",
      "pygments_lexer": "ipython3",
      "version": "3.8.13"
    },
    "nbTranslate": {
      "displayLangs": [
        "*"
      ],
      "hotkey": "alt-t",
      "langInMainMenu": true,
      "sourceLang": "en",
      "targetLang": "fr",
      "useGoogleTranslate": true
    },
    "toc": {
      "base_numbering": 1,
      "nav_menu": {},
      "number_sections": true,
      "sideBar": true,
      "skip_h1_title": false,
      "title_cell": "Table of Contents",
      "title_sidebar": "Contents",
      "toc_cell": false,
      "toc_position": {},
      "toc_section_display": true,
      "toc_window_display": false
    },
    "colab": {
      "name": "seminar_01.ipynb",
      "provenance": [],
      "collapsed_sections": []
    }
  },
  "nbformat": 4,
  "nbformat_minor": 0
}